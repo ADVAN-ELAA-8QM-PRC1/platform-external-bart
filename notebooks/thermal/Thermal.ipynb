{
 "cells": [
  {
   "cell_type": "markdown",
   "metadata": {},
   "source": [
    "# Configuration"
   ]
  },
  {
   "cell_type": "code",
   "execution_count": 1,
   "metadata": {
    "collapsed": false
   },
   "outputs": [],
   "source": [
    "import trappy \n",
    "\n",
    "config = {}\n",
    "\n",
    "# TRAPpy Events\n",
    "config[\"THERMAL\"] = trappy.thermal.Thermal\n",
    "config[\"OUT\"] = trappy.cpu_power.CpuOutPower\n",
    "config[\"IN\"] = trappy.cpu_power.CpuInPower\n",
    "config[\"PID\"] = trappy.pid_controller.PIDController\n",
    "config[\"GOVERNOR\"] = trappy.thermal.ThermalGovernor\n",
    "\n",
    "# Control Temperature\n",
    "config[\"CONTROL_TEMP\"] = 77000\n",
    "\n",
    "# A temperature margin of 2.5 degrees Celsius\n",
    "config[\"TEMP_MARGIN\"] = 2500\n",
    "\n",
    "# The Sustainable power at the control Temperature\n",
    "config[\"SUSTAINABLE_POWER\"] = 2500\n",
    "\n",
    "# Expected percentile of CONTROL_TEMP + TEMP_MARGIN\n",
    "config[\"EXPECTED_TEMP_QRT\"] = 95\n",
    "\n",
    "# Maximum expected Standard Deviation as a percentage\n",
    "# of mean temperature\n",
    "config[\"EXPECTED_STD_PCT\"] = 5\n"
   ]
  },
  {
   "cell_type": "markdown",
   "metadata": {},
   "source": [
    "# Run Object"
   ]
  },
  {
   "cell_type": "code",
   "execution_count": 2,
   "metadata": {
    "collapsed": false
   },
   "outputs": [],
   "source": [
    "# Create a Trace object\n",
    "\n",
    "TRACE = \"/Users/kapileshwarsingh/AnalysisRawData/LPC/thermal\"\n",
    "run = trappy.Run(TRACE, \"SomeBenchMark\")"
   ]
  },
  {
   "cell_type": "markdown",
   "metadata": {},
   "source": [
    "# Assertions"
   ]
  },
  {
   "cell_type": "code",
   "execution_count": 3,
   "metadata": {
    "collapsed": false
   },
   "outputs": [],
   "source": [
    "# Create an Assertion Object\n",
    "\n",
    "from bart.common.Analyzer import Analyzer\n",
    "t = Analyzer(run, config)\n",
    "\n",
    "BIG = '000000f0'\n",
    "LITTLE = '0000000f'"
   ]
  },
  {
   "cell_type": "markdown",
   "metadata": {},
   "source": [
    "## Assertion: Load and Dynamic Power"
   ]
  },
  {
   "cell_type": "markdown",
   "metadata": {},
   "source": [
    "<html>\n",
    "This assertion makes sure that the dynamic power for the each cluster is zero when the sum of the \"loads\" of each CPU is 0\n",
    "\n",
    "    $$\\forall\\ t\\ |\\ Load(t) = \\sum\\limits_{i=0}^{cpus} Load_i(t) = 0 \\implies dynamic\\ power(t)=0 $$\n",
    "    \n",
    "</html>"
   ]
  },
  {
   "cell_type": "code",
   "execution_count": 4,
   "metadata": {
    "collapsed": false
   },
   "outputs": [
    {
     "name": "stdout",
     "output_type": "stream",
     "text": [
      "PASS: Dynamic Power is Zero when load is Zero for the BIG cluster\n",
      "PASS: Dynamic Power is Zero when load is Zero for the LITTLE cluster\n"
     ]
    }
   ],
   "source": [
    "result = t.getStatement(\"((IN:load0 + IN:load1 + IN:load2 + IN:load3) == 0) \\\n",
    "                & (IN:dynamic_power > 0)\",reference=True, select=BIG)\n",
    "if len(result):\n",
    "    print \"FAIL: Dynamic Power is NOT Zero when load is Zero for the BIG cluster\"\n",
    "else:\n",
    "    print \"PASS: Dynamic Power is Zero when load is Zero for the BIG cluster\"\n",
    "\n",
    "    \n",
    "result = t.getStatement(\"((IN:load0 + IN:load1 + IN:load2 + IN:load3) == 0) \\\n",
    "                & (IN:dynamic_power > 0)\",reference=True, select=BIG)\n",
    "if len(result):\n",
    "    print \"FAIL: Dynamic Power is NOT Zero when load is Zero for the LITTLE cluster\"\n",
    "else:\n",
    "    print \"PASS: Dynamic Power is Zero when load is Zero for the LITTLE cluster\""
   ]
  },
  {
   "cell_type": "markdown",
   "metadata": {},
   "source": [
    "## Assertion: Control Temperature and Sustainable Power"
   ]
  },
  {
   "cell_type": "markdown",
   "metadata": {},
   "source": [
    "<html>\n",
    "\n",
    "When the temperature is greater than the control temperature, the total power granted to all cooling devices should be less than sustainable_power\n",
    "\n",
    "$$\\forall\\ t\\ |\\ Temperature(t) > control\\_temp \\implies Total\\ Granted\\ Power(t) < sustainable\\_power$$\n",
    "\n",
    "<html/>"
   ]
  },
  {
   "cell_type": "code",
   "execution_count": 5,
   "metadata": {
    "collapsed": false
   },
   "outputs": [
    {
     "name": "stdout",
     "output_type": "stream",
     "text": [
      "PASS: The Governor is allocating power <= sustainable when T > CONTROL_TEMP\n"
     ]
    }
   ],
   "source": [
    "result = t.getStatement(\"(GOVERNOR:current_temperature > CONTROL_TEMP) &\\\n",
    "            (PID:output > SUSTAINABLE_POWER)\", reference=True, select=0)\n",
    "\n",
    "if len(result):\n",
    "    print \"FAIL: The Governor is allocating power > sustainable when T > CONTROL_TEMP\"\n",
    "else:\n",
    "    print \"PASS: The Governor is allocating power <= sustainable when T > CONTROL_TEMP\"    "
   ]
  },
  {
   "cell_type": "markdown",
   "metadata": {},
   "source": [
    "# Statistics"
   ]
  },
  {
   "cell_type": "markdown",
   "metadata": {},
   "source": [
    "Check if 95% of the temperature readings are below CONTROL_TEMP + MARGIN"
   ]
  },
  {
   "cell_type": "code",
   "execution_count": 6,
   "metadata": {
    "collapsed": false
   },
   "outputs": [
    {
     "data": {
      "text/plain": [
       "True"
      ]
     },
     "execution_count": 6,
     "metadata": {},
     "output_type": "execute_result"
    }
   ],
   "source": [
    "t.assertStatement(\"numpy.percentile(THERMAL:temp, 95) < (CONTROL_TEMP + TEMP_MARGIN)\")"
   ]
  },
  {
   "cell_type": "markdown",
   "metadata": {},
   "source": [
    "Check if the mean temperauture is less than CONTROL_TEMP"
   ]
  },
  {
   "cell_type": "code",
   "execution_count": 7,
   "metadata": {
    "collapsed": false
   },
   "outputs": [
    {
     "data": {
      "text/plain": [
       "True"
      ]
     },
     "execution_count": 7,
     "metadata": {},
     "output_type": "execute_result"
    }
   ],
   "source": [
    "t.assertStatement(\"numpy.mean(THERMAL:temp) <= CONTROL_TEMP\",  select=0)"
   ]
  },
  {
   "cell_type": "markdown",
   "metadata": {},
   "source": [
    "We can also use getStatement to get the absolute values. Here we are getting the standard deviation expresssed as a percentage of the mean"
   ]
  },
  {
   "cell_type": "code",
   "execution_count": 10,
   "metadata": {
    "collapsed": false
   },
   "outputs": [
    {
     "data": {
      "text/plain": [
       "2.2390646863103232"
      ]
     },
     "execution_count": 10,
     "metadata": {},
     "output_type": "execute_result"
    }
   ],
   "source": [
    "t.getStatement(\"(numpy.std(THERMAL:temp) * 100.0) / numpy.mean(THERMAL:temp)\", select=0)"
   ]
  }
 ],
 "metadata": {
  "kernelspec": {
   "display_name": "Python 2",
   "language": "python",
   "name": "python2"
  },
  "language_info": {
   "codemirror_mode": {
    "name": "ipython",
    "version": 2
   },
   "file_extension": ".py",
   "mimetype": "text/x-python",
   "name": "python",
   "nbconvert_exporter": "python",
   "pygments_lexer": "ipython2",
   "version": "2.7.9"
  }
 },
 "nbformat": 4,
 "nbformat_minor": 0
}
